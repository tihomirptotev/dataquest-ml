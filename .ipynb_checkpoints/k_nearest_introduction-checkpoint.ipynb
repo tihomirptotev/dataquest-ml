{
 "cells": [
  {
   "cell_type": "code",
   "execution_count": 20,
   "metadata": {
    "collapsed": false,
    "inputHidden": false,
    "outputExpanded": false,
    "outputHidden": false
   },
   "outputs": [],
   "source": [
    "import numpy as np\n",
    "import pandas as pd\n",
    "from scipy.spatial import distance\n",
    "from sklearn.neighbors import KNeighborsRegressor\n",
    "from sklearn.metrics import mean_squared_error"
   ]
  },
  {
   "cell_type": "code",
   "execution_count": 2,
   "metadata": {
    "collapsed": false,
    "inputHidden": false,
    "outputExpanded": false,
    "outputHidden": false
   },
   "outputs": [],
   "source": [
    "dc_listings = pd.read_csv('./data/dc_airbnb.csv')\n",
    "# Remove the commas (,) and dollar sign characters ($) from the price column:\n",
    "dc_listings = dc_listings.assign(price=dc_listings.price.str.replace('[$|,]', '').astype('float'))\n",
    "\n",
    "# Training set: 75 %\n",
    "# Test set: 25 %\n",
    "train_rows = int(dc_listings.shape[0] * 0.75)\n",
    "train_df = dc_listings.iloc[:train_rows]\n",
    "test_df = dc_listings.iloc[train_rows:].copy()"
   ]
  },
  {
   "cell_type": "code",
   "execution_count": 42,
   "metadata": {
    "collapsed": false,
    "inputHidden": false,
    "outputExpanded": false,
    "outputHidden": false
   },
   "outputs": [],
   "source": [
    "def predict_price(value, feature):\n",
    "#     params:\n",
    "#         feature: name of the column (accommodates, bathrooms, ...)\n",
    "#         value: \n",
    "    df = train_df.copy()\n",
    "    df = df.assign(\n",
    "        distance=np.abs(value - df[feature])\n",
    "    ).sort_values('distance')\n",
    "    \n",
    "    ## Complete the function.\n",
    "    return df.iloc[:5, df.columns.get_loc('price')].mean()"
   ]
  },
  {
   "cell_type": "markdown",
   "metadata": {},
   "source": [
    "### Evaluating model performance"
   ]
  },
  {
   "cell_type": "code",
   "execution_count": 35,
   "metadata": {},
   "outputs": [],
   "source": [
    "test_df = test_df.assign(\n",
    "    predicted_price = test_df.accommodates.apply(predict_price, args=('accommodates',))\n",
    ")\n",
    "\n",
    "# Mean absolute error\n",
    "mae = np.abs(test_df.price - test_df.predicted_price).mean()\n",
    "\n",
    "# Mean squared error\n",
    "mse = ((test_df.price - test_df.predicted_price) ** 2).mean()"
   ]
  },
  {
   "cell_type": "code",
   "execution_count": 48,
   "metadata": {},
   "outputs": [],
   "source": [
    "test_df.loc[:, 'predicted_price'] = test_df.bathrooms.apply(predict_price, args=('bathrooms', ))\n",
    "test_df.loc[:, 'squared_error'] = (test_df.price - test_df.predicted_price) ** 2\n",
    "mse = test_df.squared_error.mean()"
   ]
  },
  {
   "cell_type": "code",
   "execution_count": 50,
   "metadata": {},
   "outputs": [],
   "source": [
    "# Root mean squared error\n",
    "rmse = mse ** (1/2)"
   ]
  },
  {
   "cell_type": "code",
   "execution_count": 52,
   "metadata": {},
   "outputs": [],
   "source": [
    "errors_one = pd.Series([5, 10, 5, 10, 5, 10, 5, 10, 5, 10, 5, 10, 5, 10, 5, 10, 5, 10])\n",
    "errors_two = pd.Series([5, 10, 5, 10, 5, 10, 5, 10, 5, 10, 5, 10, 5, 10, 5, 10, 5, 1000])"
   ]
  },
  {
   "cell_type": "code",
   "execution_count": 61,
   "metadata": {},
   "outputs": [],
   "source": [
    "mae_one = errors_one.mean()\n",
    "rmse_one = (errors_one ** 2).mean() ** 0.5\n",
    "mae_two = errors_two.mean()\n",
    "rmse_two = (errors_two ** 2).mean() ** 0.5"
   ]
  },
  {
   "cell_type": "code",
   "execution_count": 62,
   "metadata": {},
   "outputs": [
    {
     "data": {
      "text/plain": [
       "(7.5, 7.905694150420948)"
      ]
     },
     "execution_count": 62,
     "metadata": {},
     "output_type": "execute_result"
    }
   ],
   "source": [
    "mae_one, rmse_one"
   ]
  },
  {
   "cell_type": "code",
   "execution_count": 63,
   "metadata": {},
   "outputs": [
    {
     "data": {
      "text/plain": [
       "(62.5, 235.82302686548658)"
      ]
     },
     "execution_count": 63,
     "metadata": {},
     "output_type": "execute_result"
    }
   ],
   "source": [
    "mae_two, rmse_two"
   ]
  },
  {
   "cell_type": "markdown",
   "metadata": {},
   "source": [
    "### Multivariate K-nearest Neignbors"
   ]
  },
  {
   "cell_type": "code",
   "execution_count": 76,
   "metadata": {},
   "outputs": [],
   "source": [
    "columns_to_drop = ['host_response_rate', 'host_acceptance_rate', 'host_listings_count',\n",
    "                   'room_type', 'city', 'state',\n",
    "                   'latitude', 'longitude', 'zipcode',\n",
    "                   'cleaning_fee', 'security_deposit']\n",
    "dc_listings = dc_listings.drop(columns_to_drop, axis=1)\n",
    "\n",
    "dc_listings = dc_listings.dropna(subset=['bedrooms', 'bathrooms', 'beds'])\n",
    "\n",
    "normalized_listings = (dc_listings - dc_listings.mean()) / dc_listings.std()\n",
    "\n",
    "normalized_listings['price'] = dc_listings['price']"
   ]
  },
  {
   "cell_type": "code",
   "execution_count": 99,
   "metadata": {},
   "outputs": [
    {
     "data": {
      "text/plain": [
       "55.536699517309025"
      ]
     },
     "execution_count": 99,
     "metadata": {},
     "output_type": "execute_result"
    }
   ],
   "source": [
    "distance.euclidean(normalized_listings.accommodates, normalized_listings.bathrooms)"
   ]
  },
  {
   "cell_type": "code",
   "execution_count": 109,
   "metadata": {},
   "outputs": [],
   "source": [
    "first_fifth_distance = distance.euclidean(\n",
    "    normalized_listings.iloc[0, [0,2]],\n",
    "    normalized_listings.iloc[4, [0,2]]\n",
    ")"
   ]
  },
  {
   "cell_type": "code",
   "execution_count": 15,
   "metadata": {},
   "outputs": [],
   "source": [
    "dc_listings = pd.read_csv('./data/dc_airbnb.csv')\n",
    "# Remove the commas (,) and dollar sign characters ($) from the price column:\n",
    "dc_listings = dc_listings.assign(price=dc_listings.price.str.replace('[$|,]', '').astype('float'))\n",
    "columns_to_drop = ['host_response_rate', 'host_acceptance_rate', 'host_listings_count',\n",
    "                   'room_type', 'city', 'state',\n",
    "                   'latitude', 'longitude', 'zipcode',\n",
    "                   'cleaning_fee', 'security_deposit']\n",
    "dc_listings = dc_listings.drop(columns_to_drop, axis=1)\n",
    "dc_listings = dc_listings.dropna(subset=['bedrooms', 'bathrooms', 'beds'])\n",
    "normalized_listings = (dc_listings - dc_listings.mean()) / dc_listings.std()\n",
    "normalized_listings['price'] = dc_listings['price']\n",
    "# Training set: 75 %\n",
    "# Test set: 25 %\n",
    "train_df = normalized_listings.iloc[0:2792]\n",
    "test_df = normalized_listings.iloc[2792:]"
   ]
  },
  {
   "cell_type": "markdown",
   "metadata": {},
   "source": [
    "2 variables prediction"
   ]
  },
  {
   "cell_type": "code",
   "execution_count": 26,
   "metadata": {},
   "outputs": [
    {
     "data": {
      "text/plain": [
       "(12880.785483503983, 113.493548202107)"
      ]
     },
     "execution_count": 26,
     "metadata": {},
     "output_type": "execute_result"
    }
   ],
   "source": [
    "knn = KNeighborsRegressor(n_neighbors=5, algorithm='brute')\n",
    "knn.fit(train_df[['accommodates', 'bathrooms']], train_df['price'])\n",
    "predictions = knn.predict(test_df[['accommodates', 'bathrooms']])\n",
    "two_features_mse = mean_squared_error(test_df.price, predictions)\n",
    "two_features_rmse = two_features_mse ** (0.5)\n",
    "\n",
    "two_features_mse, two_features_rmse"
   ]
  },
  {
   "cell_type": "markdown",
   "metadata": {},
   "source": [
    "4 variables prediction"
   ]
  },
  {
   "cell_type": "code",
   "execution_count": 30,
   "metadata": {},
   "outputs": [
    {
     "data": {
      "text/plain": [
       "(12542.466120591584, 111.99315211472344)"
      ]
     },
     "execution_count": 30,
     "metadata": {},
     "output_type": "execute_result"
    }
   ],
   "source": [
    "knn = KNeighborsRegressor(n_neighbors=5, algorithm='brute')\n",
    "knn.fit(train_df[['accommodates', 'bedrooms', 'bathrooms', 'number_of_reviews']], train_df['price'])\n",
    "four_predictions = knn.predict(test_df[['accommodates', 'bedrooms', 'bathrooms', 'number_of_reviews']])\n",
    "four_mse = mean_squared_error(test_df['price'], four_predictions)\n",
    "four_rmse = four_mse ** (0.5)\n",
    "four_mse, four_rmse"
   ]
  },
  {
   "cell_type": "markdown",
   "metadata": {},
   "source": [
    "All variables prediction"
   ]
  },
  {
   "cell_type": "code",
   "execution_count": null,
   "metadata": {},
   "outputs": [],
   "source": [
    "all_features = train_df.columns.drop('price')\n",
    "knn = KNeighborsRegressor(n_neighbors=5, algorithm='brute')\n",
    "knn.fit(train_df[all_features], train_df['price'])\n",
    "all_features_predictions = knn.predict(test_df[all_features])\n",
    "all_features_mse = mean_squared_error(test_df['price'], all_features_predictions)\n",
    "all_features_rmse = all_features_mse ** (0.05)\n",
    "all_features_mse, all_features_rmse"
   ]
  }
 ],
 "metadata": {
  "kernel_info": {
   "name": "python3"
  },
  "kernelspec": {
   "display_name": "Python 3",
   "language": "python",
   "name": "python3"
  },
  "language_info": {
   "codemirror_mode": {
    "name": "ipython",
    "version": 3
   },
   "file_extension": ".py",
   "mimetype": "text/x-python",
   "name": "python",
   "nbconvert_exporter": "python",
   "pygments_lexer": "ipython3",
   "version": "3.6.4"
  },
  "nteract": {
   "version": "0.7.1"
  }
 },
 "nbformat": 4,
 "nbformat_minor": 4
}
