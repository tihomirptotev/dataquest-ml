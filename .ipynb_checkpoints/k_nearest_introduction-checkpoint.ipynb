{
 "cells": [
  {
   "cell_type": "code",
   "execution_count": 2,
   "metadata": {
    "collapsed": false,
    "inputHidden": false,
    "outputExpanded": false,
    "outputHidden": false
   },
   "outputs": [],
   "source": [
    "import numpy as np\n",
    "import pandas as pd"
   ]
  },
  {
   "cell_type": "code",
   "execution_count": 40,
   "metadata": {
    "collapsed": false,
    "inputHidden": false,
    "outputExpanded": false,
    "outputHidden": false
   },
   "outputs": [],
   "source": [
    "dc_listings = pd.read_csv('./data/dc_airbnb.csv')\n",
    "# Remove the commas (,) and dollar sign characters ($) from the price column:\n",
    "dc_listings = dc_listings.assign(price=dc_listings.price.str.replace('[$|,]', '').astype('float'))"
   ]
  },
  {
   "cell_type": "code",
   "execution_count": 46,
   "metadata": {
    "collapsed": false,
    "inputHidden": false,
    "outputHidden": false
   },
   "outputs": [],
   "source": [
    "# Training set: 75 %\n",
    "# Test set: 25 %\n",
    "train_rows = int(dc_listings.shape[0] * 0.75)\n",
    "train_df = dc_listings.iloc[:train_rows]\n",
    "test_df = dc_listings.iloc[train_rows:].copy()"
   ]
  },
  {
   "cell_type": "code",
   "execution_count": 42,
   "metadata": {
    "collapsed": false,
    "inputHidden": false,
    "outputExpanded": false,
    "outputHidden": false
   },
   "outputs": [],
   "source": [
    "def predict_price(value, feature):\n",
    "#     params:\n",
    "#         feature: name of the column (accommodates, bathrooms, ...)\n",
    "#         value: \n",
    "    df = train_df.copy()\n",
    "    df = df.assign(\n",
    "        distance=np.abs(value - df[feature])\n",
    "    ).sort_values('distance')\n",
    "    \n",
    "    ## Complete the function.\n",
    "    return df.iloc[:5, df.columns.get_loc('price')].mean()"
   ]
  },
  {
   "cell_type": "markdown",
   "metadata": {},
   "source": [
    "### Evaluating model performance"
   ]
  },
  {
   "cell_type": "code",
   "execution_count": 35,
   "metadata": {},
   "outputs": [],
   "source": [
    "test_df = test_df.assign(\n",
    "    predicted_price = test_df.accommodates.apply(predict_price, args=('accommodates',))\n",
    ")\n",
    "\n",
    "# Mean absolute error\n",
    "mae = np.abs(test_df.price - test_df.predicted_price).mean()\n",
    "\n",
    "# Mean squared error\n",
    "mse = ((test_df.price - test_df.predicted_price) ** 2).mean()"
   ]
  },
  {
   "cell_type": "code",
   "execution_count": 48,
   "metadata": {},
   "outputs": [],
   "source": [
    "test_df.loc[:, 'predicted_price'] = test_df.bathrooms.apply(predict_price, args=('bathrooms', ))\n",
    "test_df.loc[:, 'squared_error'] = (test_df.price - test_df.predicted_price) ** 2\n",
    "mse = test_df.squared_error.mean()"
   ]
  },
  {
   "cell_type": "code",
   "execution_count": 50,
   "metadata": {},
   "outputs": [],
   "source": [
    "# Root mean squared error\n",
    "rmse = mse ** (1/2)"
   ]
  },
  {
   "cell_type": "code",
   "execution_count": 52,
   "metadata": {},
   "outputs": [],
   "source": [
    "errors_one = pd.Series([5, 10, 5, 10, 5, 10, 5, 10, 5, 10, 5, 10, 5, 10, 5, 10, 5, 10])\n",
    "errors_two = pd.Series([5, 10, 5, 10, 5, 10, 5, 10, 5, 10, 5, 10, 5, 10, 5, 10, 5, 1000])"
   ]
  },
  {
   "cell_type": "code",
   "execution_count": 61,
   "metadata": {},
   "outputs": [],
   "source": [
    "mae_one = errors_one.mean()\n",
    "rmse_one = (errors_one ** 2).mean() ** 0.5\n",
    "mae_two = errors_two.mean()\n",
    "rmse_two = (errors_two ** 2).mean() ** 0.5"
   ]
  },
  {
   "cell_type": "code",
   "execution_count": 62,
   "metadata": {},
   "outputs": [
    {
     "data": {
      "text/plain": [
       "(7.5, 7.905694150420948)"
      ]
     },
     "execution_count": 62,
     "metadata": {},
     "output_type": "execute_result"
    }
   ],
   "source": [
    "mae_one, rmse_one"
   ]
  },
  {
   "cell_type": "code",
   "execution_count": 63,
   "metadata": {},
   "outputs": [
    {
     "data": {
      "text/plain": [
       "(62.5, 235.82302686548658)"
      ]
     },
     "execution_count": 63,
     "metadata": {},
     "output_type": "execute_result"
    }
   ],
   "source": [
    "mae_two, rmse_two"
   ]
  },
  {
   "cell_type": "code",
   "execution_count": null,
   "metadata": {},
   "outputs": [],
   "source": []
  }
 ],
 "metadata": {
  "kernel_info": {
   "name": "python3"
  },
  "kernelspec": {
   "display_name": "Python 3",
   "language": "python",
   "name": "python3"
  },
  "language_info": {
   "codemirror_mode": {
    "name": "ipython",
    "version": 3
   },
   "file_extension": ".py",
   "mimetype": "text/x-python",
   "name": "python",
   "nbconvert_exporter": "python",
   "pygments_lexer": "ipython3",
   "version": "3.6.3"
  },
  "nteract": {
   "version": "0.7.1"
  }
 },
 "nbformat": 4,
 "nbformat_minor": 4
}
