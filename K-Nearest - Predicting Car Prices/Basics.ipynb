{
 "cells": [
  {
   "cell_type": "code",
   "execution_count": 20,
   "metadata": {
    "collapsed": true
   },
   "outputs": [],
   "source": [
    "import re\n",
    "import numpy as np\n",
    "import pandas as pd\n",
    "import matplotlib.pyplot as plt\n",
    "import seaborn as sns\n",
    "from sklearn.neighbors import KNeighborsRegressor\n",
    "from sklearn.metrics import mean_squared_error\n",
    "from sklearn.model_selection import KFold, cross_val_score\n",
    "%matplotlib inline"
   ]
  },
  {
   "cell_type": "code",
   "execution_count": 21,
   "metadata": {
    "collapsed": true
   },
   "outputs": [],
   "source": [
    "headers_data = '''1. symboling: -3, -2, -1, 0, 1, 2, 3. \n",
    "2. normalized-losses: continuous from 65 to 256. \n",
    "3. make: alfa-romero\n",
    "4. fuel-type: diesel, gas. \n",
    "5. aspiration: std, turbo. \n",
    "6. num-doors: four, two. \n",
    "7. body-style: hardtop, wagon, sedan, hatchback, convertible. \n",
    "8. drive-wheels: 4wd, fwd, rwd. \n",
    "9. engine-location: front, rear. \n",
    "10. wheel-base: continuous from 86.6 120.9. \n",
    "11. length: continuous from 141.1 to 208.1. \n",
    "12. width: continuous from 60.3 to 72.3. \n",
    "13. height: continuous from 47.8 to 59.8. \n",
    "14. curb-weight: continuous from 1488 to 4066. \n",
    "15. engine-type: dohc, dohcv, l, ohc, ohcf, ohcv, rotor. \n",
    "16. num-cylinders: eight, five, four, six, three, twelve, two. \n",
    "17. engine-size: continuous from 61 to 326. \n",
    "18. fuel-system: 1bbl, 2bbl, 4bbl, idi, mfi, mpfi, spdi, spfi. \n",
    "19. bore: continuous from 2.54 to 3.94. \n",
    "20. stroke: continuous from 2.07 to 4.17. \n",
    "21. compression-ratio: continuous from 7 to 23. \n",
    "22. horsepower: continuous from 48 to 288. \n",
    "23. peak-rpm: continuous from 4150 to 6600. \n",
    "24. city-mpg: continuous from 13 to 49. \n",
    "25. highway-mpg: continuous from 16 to 54. \n",
    "26. price: continuous from 5118 to 45400.\n",
    "'''\n",
    "\n",
    "non_numeric_cols = ['make', 'fuel_type', 'aspiration', 'body_style',\n",
    "                    'drive_wheels', 'engine_location', 'engine_type', 'fuel_system']\n",
    "\n",
    "numbers = {\n",
    "    'two': 2,\n",
    "    'three': 3,\n",
    "    'four': 4,\n",
    "    'five': 5,\n",
    "    'six': 6,\n",
    "    'eight': 8,\n",
    "    'twelve': 12\n",
    "}"
   ]
  },
  {
   "cell_type": "code",
   "execution_count": 22,
   "metadata": {
    "collapsed": true
   },
   "outputs": [],
   "source": [
    "def get_headers():\n",
    "    headers = []\n",
    "    for line in headers_data.splitlines():\n",
    "        name = re.findall('[0-9]+\\.\\s(.+):', line)[0]\n",
    "        name = name.replace('-', '_')\n",
    "        headers.append(name)\n",
    "    return headers\n",
    "\n",
    "def normalize_data(df):\n",
    "    return (df - df.min()) / (df.max() - df.min())"
   ]
  },
  {
   "cell_type": "code",
   "execution_count": 23,
   "metadata": {
    "collapsed": false
   },
   "outputs": [],
   "source": [
    "cars = pd.read_csv('imports-85.data', header=None, names=get_headers())\n",
    "\n",
    "# Clean data\n",
    "cars.replace('?', np.nan, inplace=True)\n",
    "cars['normalized_losses'] = cars.normalized_losses.astype(float)\n",
    "cars.dropna(subset=['price'], inplace=True)\n",
    "cars['price'] = cars.price.astype(float)\n",
    "cars['num_doors'] = cars.num_doors.map(numbers)\n",
    "cars['num_cylinders'] = cars.num_cylinders.map(numbers)\n",
    "\n",
    "for col in cars.columns.difference(non_numeric_cols):\n",
    "    if cars[col].dtype == 'O':\n",
    "        cars[col] = pd.to_numeric(cars[col])\n",
    "\n",
    "# Drop missing values\n",
    "columns_with_missing_values = cars.isnull().sum()\n",
    "# select columns to drop values from except for normalized_losses\n",
    "to_drop = (columns_with_missing_values[columns_with_missing_values > 0].\n",
    "           sort_values(ascending=False)[1:].index)\n",
    "\n",
    "cars.dropna(subset=to_drop, inplace=True)\n",
    "cars.normalized_losses.fillna(value=cars.normalized_losses.mean(), inplace=True)\n",
    "\n",
    "# Normalize data\n",
    "cars_norm = normalize_data(cars[cars.columns.difference(non_numeric_cols)])\n",
    "cars_norm['price'] = cars['price']"
   ]
  },
  {
   "cell_type": "code",
   "execution_count": 24,
   "metadata": {
    "collapsed": true
   },
   "outputs": [],
   "source": [
    "def knn_train_test(train_cols, target, df, k=5):\n",
    "    if isinstance(train_cols, str):\n",
    "        train_cols = [train_cols]\n",
    "    test_df = df.sample(frac=0.25, random_state=1)\n",
    "    train_df = df.loc[df.index.difference(test_df.index)]\n",
    "    knn = KNeighborsRegressor(n_neighbors=k)\n",
    "    knn.fit(train_df[train_cols], train_df[target])\n",
    "    predictions = knn.predict(test_df[train_cols])\n",
    "    return mean_squared_error(test_df[target], predictions) ** (1/2)\n",
    "\n",
    "def calc_knn_n_values(train, target, df, k_values):\n",
    "    results = {\n",
    "        k: knn_train_test(train, target, cars_norm, k)\n",
    "        for k in k_values\n",
    "    }\n",
    "    return pd.Series(results)\n",
    "\n",
    "def train_all_columns(target, df, k_values):\n",
    "    if isinstance(k_values, int):\n",
    "        k_values = [k_values]\n",
    "    results_all = {}\n",
    "    for k in k_values:\n",
    "        results = {\n",
    "            col: knn_train_test(col, target, df, k)\n",
    "            for col in df.columns.drop(target)\n",
    "        }\n",
    "        results_all[k] = results\n",
    "    \n",
    "    return pd.DataFrame(results_all).T\n",
    "\n",
    "def get_best_performing_attrs(df, n):\n",
    "    df = pd.concat([df[col].sort_values().head(n) for col in df.columns], axis=1)\n",
    "    results = (df.assign(\n",
    "            appearances=df.isnull().sum(axis=1),\n",
    "            mean_value=df.mean(axis=1)).\n",
    "            sort_values(['appearances', 'mean_value'])\n",
    "            .index.values)\n",
    "    return results[:n]"
   ]
  },
  {
   "cell_type": "markdown",
   "metadata": {},
   "source": [
    "#### Best 3 performing attributes for univariate k-nearest neighbors model:"
   ]
  },
  {
   "cell_type": "code",
   "execution_count": 25,
   "metadata": {
    "collapsed": false
   },
   "outputs": [
    {
     "data": {
      "text/plain": [
       "engine_size    2917.537270\n",
       "highway_mpg    3471.493857\n",
       "city_mpg       3591.304678\n",
       "dtype: float64"
      ]
     },
     "execution_count": 25,
     "metadata": {},
     "output_type": "execute_result"
    }
   ],
   "source": [
    "use_cols = cars_norm.columns.copy()\n",
    "results = {\n",
    "    col: knn_train_test(col, 'price', cars_norm)\n",
    "    for col in use_cols.drop('price')\n",
    "}\n",
    "pd.Series(results).sort_values().head(3)"
   ]
  },
  {
   "cell_type": "markdown",
   "metadata": {},
   "source": [
    "#### Univariate models for all columns using the following k values (1, 3, 5, 7, 9)."
   ]
  },
  {
   "cell_type": "code",
   "execution_count": 26,
   "metadata": {
    "collapsed": false
   },
   "outputs": [],
   "source": [
    "res_all = train_all_columns('price', cars_norm, range(1,10,2))"
   ]
  },
  {
   "cell_type": "code",
   "execution_count": 27,
   "metadata": {
    "collapsed": false
   },
   "outputs": [
    {
     "data": {
      "text/html": [
       "<div>\n",
       "<style scoped>\n",
       "    .dataframe tbody tr th:only-of-type {\n",
       "        vertical-align: middle;\n",
       "    }\n",
       "\n",
       "    .dataframe tbody tr th {\n",
       "        vertical-align: top;\n",
       "    }\n",
       "\n",
       "    .dataframe thead th {\n",
       "        text-align: right;\n",
       "    }\n",
       "</style>\n",
       "<table border=\"1\" class=\"dataframe\">\n",
       "  <thead>\n",
       "    <tr style=\"text-align: right;\">\n",
       "      <th></th>\n",
       "      <th>bore</th>\n",
       "      <th>city_mpg</th>\n",
       "      <th>compression_ratio</th>\n",
       "      <th>curb_weight</th>\n",
       "      <th>engine_size</th>\n",
       "      <th>height</th>\n",
       "      <th>highway_mpg</th>\n",
       "      <th>horsepower</th>\n",
       "      <th>length</th>\n",
       "      <th>normalized_losses</th>\n",
       "      <th>num_cylinders</th>\n",
       "      <th>num_doors</th>\n",
       "      <th>peak_rpm</th>\n",
       "      <th>stroke</th>\n",
       "      <th>symboling</th>\n",
       "      <th>wheel_base</th>\n",
       "      <th>width</th>\n",
       "    </tr>\n",
       "  </thead>\n",
       "  <tbody>\n",
       "    <tr>\n",
       "      <th>1</th>\n",
       "      <td>10253.239152</td>\n",
       "      <td>5749.823282</td>\n",
       "      <td>8770.227200</td>\n",
       "      <td>4662.479220</td>\n",
       "      <td>3555.364995</td>\n",
       "      <td>9221.512085</td>\n",
       "      <td>6669.911058</td>\n",
       "      <td>3972.820430</td>\n",
       "      <td>5636.716422</td>\n",
       "      <td>7729.710678</td>\n",
       "      <td>5259.143849</td>\n",
       "      <td>8212.172204</td>\n",
       "      <td>9330.138196</td>\n",
       "      <td>10847.117492</td>\n",
       "      <td>8361.463229</td>\n",
       "      <td>3232.095038</td>\n",
       "      <td>3926.685238</td>\n",
       "    </tr>\n",
       "    <tr>\n",
       "      <th>3</th>\n",
       "      <td>5356.412690</td>\n",
       "      <td>4172.252705</td>\n",
       "      <td>8772.117729</td>\n",
       "      <td>5214.646237</td>\n",
       "      <td>2137.808619</td>\n",
       "      <td>8199.532944</td>\n",
       "      <td>4050.961589</td>\n",
       "      <td>4728.973117</td>\n",
       "      <td>5359.859088</td>\n",
       "      <td>5916.581680</td>\n",
       "      <td>8645.181398</td>\n",
       "      <td>9055.038059</td>\n",
       "      <td>7942.721350</td>\n",
       "      <td>7380.304026</td>\n",
       "      <td>8113.264366</td>\n",
       "      <td>4281.242315</td>\n",
       "      <td>4327.061643</td>\n",
       "    </tr>\n",
       "    <tr>\n",
       "      <th>5</th>\n",
       "      <td>5908.183183</td>\n",
       "      <td>3591.304678</td>\n",
       "      <td>7038.374606</td>\n",
       "      <td>4466.725273</td>\n",
       "      <td>2917.537270</td>\n",
       "      <td>7694.528006</td>\n",
       "      <td>3471.493857</td>\n",
       "      <td>3615.713413</td>\n",
       "      <td>5051.407709</td>\n",
       "      <td>7007.706471</td>\n",
       "      <td>8727.242443</td>\n",
       "      <td>9328.856677</td>\n",
       "      <td>8629.850331</td>\n",
       "      <td>7727.306415</td>\n",
       "      <td>8845.262523</td>\n",
       "      <td>5287.020913</td>\n",
       "      <td>4219.800981</td>\n",
       "    </tr>\n",
       "    <tr>\n",
       "      <th>7</th>\n",
       "      <td>6699.063368</td>\n",
       "      <td>3499.818189</td>\n",
       "      <td>6379.824899</td>\n",
       "      <td>4322.709623</td>\n",
       "      <td>3196.488810</td>\n",
       "      <td>7332.841970</td>\n",
       "      <td>3762.431656</td>\n",
       "      <td>3251.225841</td>\n",
       "      <td>5204.351727</td>\n",
       "      <td>7601.676691</td>\n",
       "      <td>8290.925028</td>\n",
       "      <td>10545.742879</td>\n",
       "      <td>8089.814550</td>\n",
       "      <td>7707.268020</td>\n",
       "      <td>7950.593027</td>\n",
       "      <td>5456.321886</td>\n",
       "      <td>4370.610113</td>\n",
       "    </tr>\n",
       "    <tr>\n",
       "      <th>9</th>\n",
       "      <td>7142.745011</td>\n",
       "      <td>3339.118708</td>\n",
       "      <td>6546.367413</td>\n",
       "      <td>4122.875538</td>\n",
       "      <td>3170.477620</td>\n",
       "      <td>7628.882834</td>\n",
       "      <td>3940.869502</td>\n",
       "      <td>3686.496170</td>\n",
       "      <td>5206.993799</td>\n",
       "      <td>7547.872210</td>\n",
       "      <td>8270.764454</td>\n",
       "      <td>9811.604207</td>\n",
       "      <td>8011.357073</td>\n",
       "      <td>7706.298331</td>\n",
       "      <td>7593.811251</td>\n",
       "      <td>5823.093256</td>\n",
       "      <td>4486.189331</td>\n",
       "    </tr>\n",
       "  </tbody>\n",
       "</table>\n",
       "</div>"
      ],
      "text/plain": [
       "           bore     city_mpg  compression_ratio  curb_weight  engine_size  \\\n",
       "1  10253.239152  5749.823282        8770.227200  4662.479220  3555.364995   \n",
       "3   5356.412690  4172.252705        8772.117729  5214.646237  2137.808619   \n",
       "5   5908.183183  3591.304678        7038.374606  4466.725273  2917.537270   \n",
       "7   6699.063368  3499.818189        6379.824899  4322.709623  3196.488810   \n",
       "9   7142.745011  3339.118708        6546.367413  4122.875538  3170.477620   \n",
       "\n",
       "        height  highway_mpg   horsepower       length  normalized_losses  \\\n",
       "1  9221.512085  6669.911058  3972.820430  5636.716422        7729.710678   \n",
       "3  8199.532944  4050.961589  4728.973117  5359.859088        5916.581680   \n",
       "5  7694.528006  3471.493857  3615.713413  5051.407709        7007.706471   \n",
       "7  7332.841970  3762.431656  3251.225841  5204.351727        7601.676691   \n",
       "9  7628.882834  3940.869502  3686.496170  5206.993799        7547.872210   \n",
       "\n",
       "   num_cylinders     num_doors     peak_rpm        stroke    symboling  \\\n",
       "1    5259.143849   8212.172204  9330.138196  10847.117492  8361.463229   \n",
       "3    8645.181398   9055.038059  7942.721350   7380.304026  8113.264366   \n",
       "5    8727.242443   9328.856677  8629.850331   7727.306415  8845.262523   \n",
       "7    8290.925028  10545.742879  8089.814550   7707.268020  7950.593027   \n",
       "9    8270.764454   9811.604207  8011.357073   7706.298331  7593.811251   \n",
       "\n",
       "    wheel_base        width  \n",
       "1  3232.095038  3926.685238  \n",
       "3  4281.242315  4327.061643  \n",
       "5  5287.020913  4219.800981  \n",
       "7  5456.321886  4370.610113  \n",
       "9  5823.093256  4486.189331  "
      ]
     },
     "execution_count": 27,
     "metadata": {},
     "output_type": "execute_result"
    }
   ],
   "source": [
    "res_all"
   ]
  },
  {
   "cell_type": "code",
   "execution_count": 28,
   "metadata": {
    "collapsed": false
   },
   "outputs": [
    {
     "data": {
      "text/plain": [
       "<matplotlib.axes._subplots.AxesSubplot at 0x7f81182cec88>"
      ]
     },
     "execution_count": 28,
     "metadata": {},
     "output_type": "execute_result"
    },
    {
     "data": {
      "image/png": "[encoded data removed]",
      "text/plain": [
       "<matplotlib.figure.Figure at 0x7f81183ab358>"
      ]
     },
     "metadata": {},
     "output_type": "display_data"
    }
   ],
   "source": [
    "res_all.plot(legend=False)"
   ]
  },
  {
   "cell_type": "markdown",
   "metadata": {},
   "source": [
    "#### Use the best n features from the previous step to train and test a multivariate k-nearest neighbors model using the default k value. Select top 3 models"
   ]
  },
  {
   "cell_type": "code",
   "execution_count": 29,
   "metadata": {
    "collapsed": false
   },
   "outputs": [
    {
     "data": {
      "text/plain": [
       "[(array(['engine_size', 'horsepower', 'city_mpg'], dtype=object),\n",
       "  2193.3248024783443),\n",
       " (array(['engine_size', 'horsepower', 'city_mpg', 'highway_mpg'],\n",
       "        dtype=object), 2245.2930139145165),\n",
       " (array(['engine_size', 'horsepower'], dtype=object), 2569.303274722546)]"
      ]
     },
     "execution_count": 29,
     "metadata": {},
     "output_type": "execute_result"
    }
   ],
   "source": [
    "top5attr = get_best_performing_attrs(\n",
    "    train_all_columns('price', cars_norm, range(1,10,2)).T, 5)\n",
    "\n",
    "top3models = sorted(\n",
    "    [(top5attr[:i], knn_train_test(top5attr[:i], 'price', cars_norm))\n",
    "     for i in range(2, len(top5attr) + 1)],\n",
    "    key=lambda x: x[1])[:3]\n",
    "\n",
    "top3models"
   ]
  },
  {
   "cell_type": "code",
   "execution_count": 30,
   "metadata": {
    "collapsed": false
   },
   "outputs": [],
   "source": [
    "res = {}\n",
    "for model in top3models:\n",
    "    res[', '.join(model[0])] = calc_knn_n_values(model[0], 'price', cars_norm, range(1,26))"
   ]
  },
  {
   "cell_type": "code",
   "execution_count": 31,
   "metadata": {
    "collapsed": true
   },
   "outputs": [],
   "source": [
    "df = pd.DataFrame(res)"
   ]
  },
  {
   "cell_type": "code",
   "execution_count": 32,
   "metadata": {
    "collapsed": false
   },
   "outputs": [
    {
     "data": {
      "text/plain": [
       "<matplotlib.axes._subplots.AxesSubplot at 0x7f8113ef1128>"
      ]
     },
     "execution_count": 32,
     "metadata": {},
     "output_type": "execute_result"
    },
    {
     "data": {
      "image/png": "[encoded data removed]",
      "text/plain": [
       "<matplotlib.figure.Figure at 0x7f81183a4c88>"
      ]
     },
     "metadata": {},
     "output_type": "display_data"
    }
   ],
   "source": [
    "df.plot()"
   ]
  },
  {
   "cell_type": "code",
   "execution_count": 110,
   "metadata": {
    "collapsed": false
   },
   "outputs": [
    {
     "data": {
      "text/plain": [
       "engine_size, horsepower                           4\n",
       "engine_size, horsepower, city_mpg                 4\n",
       "engine_size, horsepower, city_mpg, highway_mpg    4\n",
       "dtype: int64"
      ]
     },
     "execution_count": 110,
     "metadata": {},
     "output_type": "execute_result"
    }
   ],
   "source": [
    "df.idxmin()"
   ]
  },
  {
   "cell_type": "markdown",
   "metadata": {},
   "source": [
    "### Cross-validation"
   ]
  },
  {
   "cell_type": "code",
   "execution_count": 58,
   "metadata": {},
   "outputs": [],
   "source": [
    "def calc_cross_val(folds, k_values, df, train_cols, target):\n",
    "    res = {}\n",
    "    for k in k_values:\n",
    "        kf = KFold(folds, shuffle=True, random_state=1)\n",
    "        knn = KNeighborsRegressor(k)\n",
    "        mses = cross_val_score(knn, df[train_cols], df[target],\n",
    "                               scoring=\"neg_mean_squared_error\", cv=kf)\n",
    "        rmses = np.sqrt(np.abs(mses))\n",
    "        res[k] = rmses.mean()\n",
    "    return pd.Series(res)"
   ]
  },
  {
   "cell_type": "code",
   "execution_count": 65,
   "metadata": {},
   "outputs": [
    {
     "data": {
      "text/html": [
       "<div>\n",
       "<style scoped>\n",
       "    .dataframe tbody tr th:only-of-type {\n",
       "        vertical-align: middle;\n",
       "    }\n",
       "\n",
       "    .dataframe tbody tr th {\n",
       "        vertical-align: top;\n",
       "    }\n",
       "\n",
       "    .dataframe thead th {\n",
       "        text-align: right;\n",
       "    }\n",
       "</style>\n",
       "<table border=\"1\" class=\"dataframe\">\n",
       "  <thead>\n",
       "    <tr style=\"text-align: right;\">\n",
       "      <th></th>\n",
       "      <th>engine_size, horsepower</th>\n",
       "      <th>engine_size, horsepower, city_mpg</th>\n",
       "      <th>engine_size, horsepower, city_mpg, highway_mpg</th>\n",
       "    </tr>\n",
       "  </thead>\n",
       "  <tbody>\n",
       "    <tr>\n",
       "      <th>1</th>\n",
       "      <td>2810.514199</td>\n",
       "      <td>2885.562521</td>\n",
       "      <td>2943.422622</td>\n",
       "    </tr>\n",
       "    <tr>\n",
       "      <th>2</th>\n",
       "      <td>2782.889537</td>\n",
       "      <td>2586.028749</td>\n",
       "      <td>2701.512863</td>\n",
       "    </tr>\n",
       "    <tr>\n",
       "      <th>3</th>\n",
       "      <td>2906.158915</td>\n",
       "      <td>2730.495509</td>\n",
       "      <td>2884.578892</td>\n",
       "    </tr>\n",
       "    <tr>\n",
       "      <th>4</th>\n",
       "      <td>2916.777231</td>\n",
       "      <td>2779.178209</td>\n",
       "      <td>2867.560016</td>\n",
       "    </tr>\n",
       "    <tr>\n",
       "      <th>5</th>\n",
       "      <td>3112.868245</td>\n",
       "      <td>2899.410393</td>\n",
       "      <td>2897.733976</td>\n",
       "    </tr>\n",
       "    <tr>\n",
       "      <th>6</th>\n",
       "      <td>3196.799132</td>\n",
       "      <td>3033.819808</td>\n",
       "      <td>3091.460789</td>\n",
       "    </tr>\n",
       "    <tr>\n",
       "      <th>7</th>\n",
       "      <td>3249.309733</td>\n",
       "      <td>3173.886188</td>\n",
       "      <td>3237.396552</td>\n",
       "    </tr>\n",
       "    <tr>\n",
       "      <th>8</th>\n",
       "      <td>3352.467233</td>\n",
       "      <td>3331.898353</td>\n",
       "      <td>3315.528218</td>\n",
       "    </tr>\n",
       "    <tr>\n",
       "      <th>9</th>\n",
       "      <td>3503.689547</td>\n",
       "      <td>3472.089575</td>\n",
       "      <td>3434.052325</td>\n",
       "    </tr>\n",
       "    <tr>\n",
       "      <th>10</th>\n",
       "      <td>3636.593013</td>\n",
       "      <td>3567.811826</td>\n",
       "      <td>3589.994283</td>\n",
       "    </tr>\n",
       "    <tr>\n",
       "      <th>11</th>\n",
       "      <td>3731.268833</td>\n",
       "      <td>3633.732109</td>\n",
       "      <td>3696.518799</td>\n",
       "    </tr>\n",
       "    <tr>\n",
       "      <th>12</th>\n",
       "      <td>3834.746240</td>\n",
       "      <td>3778.045140</td>\n",
       "      <td>3763.799210</td>\n",
       "    </tr>\n",
       "    <tr>\n",
       "      <th>13</th>\n",
       "      <td>3891.243080</td>\n",
       "      <td>3856.517261</td>\n",
       "      <td>3840.385996</td>\n",
       "    </tr>\n",
       "    <tr>\n",
       "      <th>14</th>\n",
       "      <td>3961.786723</td>\n",
       "      <td>3922.267233</td>\n",
       "      <td>3916.252153</td>\n",
       "    </tr>\n",
       "    <tr>\n",
       "      <th>15</th>\n",
       "      <td>4076.307555</td>\n",
       "      <td>4020.409654</td>\n",
       "      <td>4049.431564</td>\n",
       "    </tr>\n",
       "    <tr>\n",
       "      <th>16</th>\n",
       "      <td>4166.603225</td>\n",
       "      <td>4145.119025</td>\n",
       "      <td>4123.385130</td>\n",
       "    </tr>\n",
       "    <tr>\n",
       "      <th>17</th>\n",
       "      <td>4237.581161</td>\n",
       "      <td>4215.856354</td>\n",
       "      <td>4231.848258</td>\n",
       "    </tr>\n",
       "    <tr>\n",
       "      <th>18</th>\n",
       "      <td>4288.290317</td>\n",
       "      <td>4265.754974</td>\n",
       "      <td>4303.265108</td>\n",
       "    </tr>\n",
       "    <tr>\n",
       "      <th>19</th>\n",
       "      <td>4335.540954</td>\n",
       "      <td>4314.462255</td>\n",
       "      <td>4370.355798</td>\n",
       "    </tr>\n",
       "    <tr>\n",
       "      <th>20</th>\n",
       "      <td>4413.309151</td>\n",
       "      <td>4347.434348</td>\n",
       "      <td>4427.435359</td>\n",
       "    </tr>\n",
       "    <tr>\n",
       "      <th>21</th>\n",
       "      <td>4516.792338</td>\n",
       "      <td>4416.300629</td>\n",
       "      <td>4459.717940</td>\n",
       "    </tr>\n",
       "    <tr>\n",
       "      <th>22</th>\n",
       "      <td>4568.133352</td>\n",
       "      <td>4504.472568</td>\n",
       "      <td>4510.955939</td>\n",
       "    </tr>\n",
       "    <tr>\n",
       "      <th>23</th>\n",
       "      <td>4620.761867</td>\n",
       "      <td>4573.689931</td>\n",
       "      <td>4558.483429</td>\n",
       "    </tr>\n",
       "    <tr>\n",
       "      <th>24</th>\n",
       "      <td>4668.430697</td>\n",
       "      <td>4634.975889</td>\n",
       "      <td>4594.842524</td>\n",
       "    </tr>\n",
       "    <tr>\n",
       "      <th>25</th>\n",
       "      <td>4684.716135</td>\n",
       "      <td>4661.741404</td>\n",
       "      <td>4640.107372</td>\n",
       "    </tr>\n",
       "  </tbody>\n",
       "</table>\n",
       "</div>"
      ],
      "text/plain": [
       "    engine_size, horsepower  engine_size, horsepower, city_mpg  \\\n",
       "1               2810.514199                        2885.562521   \n",
       "2               2782.889537                        2586.028749   \n",
       "3               2906.158915                        2730.495509   \n",
       "4               2916.777231                        2779.178209   \n",
       "5               3112.868245                        2899.410393   \n",
       "6               3196.799132                        3033.819808   \n",
       "7               3249.309733                        3173.886188   \n",
       "8               3352.467233                        3331.898353   \n",
       "9               3503.689547                        3472.089575   \n",
       "10              3636.593013                        3567.811826   \n",
       "11              3731.268833                        3633.732109   \n",
       "12              3834.746240                        3778.045140   \n",
       "13              3891.243080                        3856.517261   \n",
       "14              3961.786723                        3922.267233   \n",
       "15              4076.307555                        4020.409654   \n",
       "16              4166.603225                        4145.119025   \n",
       "17              4237.581161                        4215.856354   \n",
       "18              4288.290317                        4265.754974   \n",
       "19              4335.540954                        4314.462255   \n",
       "20              4413.309151                        4347.434348   \n",
       "21              4516.792338                        4416.300629   \n",
       "22              4568.133352                        4504.472568   \n",
       "23              4620.761867                        4573.689931   \n",
       "24              4668.430697                        4634.975889   \n",
       "25              4684.716135                        4661.741404   \n",
       "\n",
       "    engine_size, horsepower, city_mpg, highway_mpg  \n",
       "1                                      2943.422622  \n",
       "2                                      2701.512863  \n",
       "3                                      2884.578892  \n",
       "4                                      2867.560016  \n",
       "5                                      2897.733976  \n",
       "6                                      3091.460789  \n",
       "7                                      3237.396552  \n",
       "8                                      3315.528218  \n",
       "9                                      3434.052325  \n",
       "10                                     3589.994283  \n",
       "11                                     3696.518799  \n",
       "12                                     3763.799210  \n",
       "13                                     3840.385996  \n",
       "14                                     3916.252153  \n",
       "15                                     4049.431564  \n",
       "16                                     4123.385130  \n",
       "17                                     4231.848258  \n",
       "18                                     4303.265108  \n",
       "19                                     4370.355798  \n",
       "20                                     4427.435359  \n",
       "21                                     4459.717940  \n",
       "22                                     4510.955939  \n",
       "23                                     4558.483429  \n",
       "24                                     4594.842524  \n",
       "25                                     4640.107372  "
      ]
     },
     "execution_count": 65,
     "metadata": {},
     "output_type": "execute_result"
    }
   ],
   "source": [
    "\n",
    "\n",
    "pd.DataFrame({', '.join(model[0]): calc_cross_val(4, range(1,26), cars_norm, model[0], 'price')\n",
    "for model in top3models})"
   ]
  },
  {
   "cell_type": "code",
   "execution_count": null,
   "metadata": {},
   "outputs": [],
   "source": []
  }
 ],
 "metadata": {
  "kernelspec": {
   "display_name": "Python 3",
   "language": "python",
   "name": "python3"
  },
  "language_info": {
   "codemirror_mode": {
    "name": "ipython",
    "version": 3
   },
   "file_extension": ".py",
   "mimetype": "text/x-python",
   "name": "python",
   "nbconvert_exporter": "python",
   "pygments_lexer": "ipython3",
   "version": "3.6.4"
  }
 },
 "nbformat": 4,
 "nbformat_minor": 2
}
