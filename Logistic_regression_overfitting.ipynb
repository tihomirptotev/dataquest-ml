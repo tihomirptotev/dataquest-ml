{
 "cells": [
  {
   "cell_type": "code",
   "execution_count": 80,
   "metadata": {},
   "outputs": [],
   "source": [
    "from sklearn.linear_model import LinearRegression\n",
    "from sklearn.model_selection import KFold, cross_val_score, cross_val_predict\n",
    "from sklearn.metrics import mean_squared_error\n",
    "import numpy as np\n",
    "import matplotlib.pyplot as plt\n",
    "import pandas as pd\n",
    "import seaborn as sns"
   ]
  },
  {
   "cell_type": "code",
   "execution_count": 47,
   "metadata": {},
   "outputs": [],
   "source": [
    "columns = [\"mpg\", \"cylinders\", \"displacement\", \"horsepower\", \"weight\", \"acceleration\", \"model year\", \"origin\", \"car name\"]\n",
    "cars = pd.read_table(\"data/auto-mpg.data\", delim_whitespace=True, names=columns)\n",
    "filtered_cars = cars[cars['horsepower'] != '?'].copy().reset_index()\n",
    "filtered_cars['horsepower'] = filtered_cars['horsepower'].astype('float')"
   ]
  },
  {
   "cell_type": "code",
   "execution_count": 48,
   "metadata": {},
   "outputs": [],
   "source": [
    "def train_and_test(cols):\n",
    "    lr = LinearRegression()\n",
    "    lr.fit(filtered_cars[cols], filtered_cars['mpg'])\n",
    "    predictions = lr.predict(filtered_cars[cols])\n",
    "    mse = mean_squared_error(filtered_cars['mpg'], predictions)\n",
    "    return mse, predictions.var()"
   ]
  },
  {
   "cell_type": "code",
   "execution_count": 62,
   "metadata": {},
   "outputs": [],
   "source": [
    "def train_and_cross_val(cols):\n",
    "    kf = KFold(n_splits=10, shuffle=True, random_state=3)\n",
    "    mse_list = []\n",
    "    var_list = []\n",
    "    for train_ix, test_ix in kf.split(filtered_cars[cols], filtered_cars['mpg']):\n",
    "        lr = LinearRegression()\n",
    "        lr.fit(filtered_cars.loc[train_ix, cols], filtered_cars.loc[train_ix, 'mpg'])\n",
    "        predictions = lr.predict(filtered_cars.loc[test_ix, cols])\n",
    "        mse_list.append(mean_squared_error(filtered_cars.loc[test_ix, 'mpg'], predictions))\n",
    "        var_list.append(np.var(predictions))\n",
    "    return np.mean(mse_list), np.mean(var_list)\n",
    "    "
   ]
  },
  {
   "cell_type": "code",
   "execution_count": 76,
   "metadata": {},
   "outputs": [],
   "source": [
    "feature_list = ['cylinders', 'displacement', 'horsepower', 'weight', 'acceleration', 'model year', 'origin']\n",
    "plot_data = []\n",
    "for i in range(2, len(feature_list) + 1):\n",
    "    subset_features = feature_list[:i]\n",
    "    num_features = len(subset_features)\n",
    "    mse, var = train_and_cross_val(subset_features)\n",
    "    plot_data.append([num_features, mse, var])\n",
    "plot_df = pd.DataFrame(plot_data, columns=['num_features', 'mse', 'var'])\n",
    "\n",
    "plt.scatter(plot_df['num_features'], plot_df['mse'], c='red')\n",
    "plt.scatter(plot_df['num_features'], plot_df['var'], c='blue')\n",
    "plt.show()"
   ]
  }
 ],
 "metadata": {
  "kernelspec": {
   "display_name": "Python 3",
   "language": "python",
   "name": "python3"
  },
  "language_info": {
   "codemirror_mode": {
    "name": "ipython",
    "version": 3
   },
   "file_extension": ".py",
   "mimetype": "text/x-python",
   "name": "python",
   "nbconvert_exporter": "python",
   "pygments_lexer": "ipython3",
   "version": "3.6.4"
  }
 },
 "nbformat": 4,
 "nbformat_minor": 2
}
