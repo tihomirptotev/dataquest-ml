{
  "cells": [
    {
      "cell_type": "code",
      "source": [
        "import numpy as np\n",
        "import pandas as pd"
      ],
      "outputs": [],
      "execution_count": 24,
      "metadata": {
        "collapsed": false,
        "outputHidden": false,
        "inputHidden": false,
        "outputExpanded": false
      }
    },
    {
      "cell_type": "code",
      "source": [
        "dc_listings = pd.read_csv('./data/dc_airbnb.csv')\n",
        "dc_listings.head(3).T"
      ],
      "outputs": [
        {
          "output_type": "execute_result",
          "execution_count": 25,
          "data": {
            "text/plain": [
              "                                    0                1             2\n",
              "host_response_rate                92%              90%           90%\n",
              "host_acceptance_rate              91%             100%          100%\n",
              "host_listings_count                26                1             2\n",
              "accommodates                        4                6             1\n",
              "room_type             Entire home/apt  Entire home/apt  Private room\n",
              "bedrooms                            1                3             1\n",
              "bathrooms                           1                3             2\n",
              "beds                                2                3             1\n",
              "price                         $160.00          $350.00        $50.00\n",
              "cleaning_fee                  $115.00          $100.00           NaN\n",
              "security_deposit              $100.00              NaN           NaN\n",
              "minimum_nights                      1                2             2\n",
              "maximum_nights                   1125               30          1125\n",
              "number_of_reviews                   0               65             1\n",
              "latitude                        38.89          38.8804       38.9553\n",
              "longitude                    -77.0028         -76.9905       -76.986\n",
              "city                       Washington       Washington   Hyattsville\n",
              "zipcode                         20003            20003         20782\n",
              "state                              DC               DC            MD"
            ],
            "text/html": [
              "<div>\n",
              "<style scoped>\n",
              "    .dataframe tbody tr th:only-of-type {\n",
              "        vertical-align: middle;\n",
              "    }\n",
              "\n",
              "    .dataframe tbody tr th {\n",
              "        vertical-align: top;\n",
              "    }\n",
              "\n",
              "    .dataframe thead th {\n",
              "        text-align: right;\n",
              "    }\n",
              "</style>\n",
              "<table border=\"1\" class=\"dataframe\">\n",
              "  <thead>\n",
              "    <tr style=\"text-align: right;\">\n",
              "      <th></th>\n",
              "      <th>0</th>\n",
              "      <th>1</th>\n",
              "      <th>2</th>\n",
              "    </tr>\n",
              "  </thead>\n",
              "  <tbody>\n",
              "    <tr>\n",
              "      <th>host_response_rate</th>\n",
              "      <td>92%</td>\n",
              "      <td>90%</td>\n",
              "      <td>90%</td>\n",
              "    </tr>\n",
              "    <tr>\n",
              "      <th>host_acceptance_rate</th>\n",
              "      <td>91%</td>\n",
              "      <td>100%</td>\n",
              "      <td>100%</td>\n",
              "    </tr>\n",
              "    <tr>\n",
              "      <th>host_listings_count</th>\n",
              "      <td>26</td>\n",
              "      <td>1</td>\n",
              "      <td>2</td>\n",
              "    </tr>\n",
              "    <tr>\n",
              "      <th>accommodates</th>\n",
              "      <td>4</td>\n",
              "      <td>6</td>\n",
              "      <td>1</td>\n",
              "    </tr>\n",
              "    <tr>\n",
              "      <th>room_type</th>\n",
              "      <td>Entire home/apt</td>\n",
              "      <td>Entire home/apt</td>\n",
              "      <td>Private room</td>\n",
              "    </tr>\n",
              "    <tr>\n",
              "      <th>bedrooms</th>\n",
              "      <td>1</td>\n",
              "      <td>3</td>\n",
              "      <td>1</td>\n",
              "    </tr>\n",
              "    <tr>\n",
              "      <th>bathrooms</th>\n",
              "      <td>1</td>\n",
              "      <td>3</td>\n",
              "      <td>2</td>\n",
              "    </tr>\n",
              "    <tr>\n",
              "      <th>beds</th>\n",
              "      <td>2</td>\n",
              "      <td>3</td>\n",
              "      <td>1</td>\n",
              "    </tr>\n",
              "    <tr>\n",
              "      <th>price</th>\n",
              "      <td>$160.00</td>\n",
              "      <td>$350.00</td>\n",
              "      <td>$50.00</td>\n",
              "    </tr>\n",
              "    <tr>\n",
              "      <th>cleaning_fee</th>\n",
              "      <td>$115.00</td>\n",
              "      <td>$100.00</td>\n",
              "      <td>NaN</td>\n",
              "    </tr>\n",
              "    <tr>\n",
              "      <th>security_deposit</th>\n",
              "      <td>$100.00</td>\n",
              "      <td>NaN</td>\n",
              "      <td>NaN</td>\n",
              "    </tr>\n",
              "    <tr>\n",
              "      <th>minimum_nights</th>\n",
              "      <td>1</td>\n",
              "      <td>2</td>\n",
              "      <td>2</td>\n",
              "    </tr>\n",
              "    <tr>\n",
              "      <th>maximum_nights</th>\n",
              "      <td>1125</td>\n",
              "      <td>30</td>\n",
              "      <td>1125</td>\n",
              "    </tr>\n",
              "    <tr>\n",
              "      <th>number_of_reviews</th>\n",
              "      <td>0</td>\n",
              "      <td>65</td>\n",
              "      <td>1</td>\n",
              "    </tr>\n",
              "    <tr>\n",
              "      <th>latitude</th>\n",
              "      <td>38.89</td>\n",
              "      <td>38.8804</td>\n",
              "      <td>38.9553</td>\n",
              "    </tr>\n",
              "    <tr>\n",
              "      <th>longitude</th>\n",
              "      <td>-77.0028</td>\n",
              "      <td>-76.9905</td>\n",
              "      <td>-76.986</td>\n",
              "    </tr>\n",
              "    <tr>\n",
              "      <th>city</th>\n",
              "      <td>Washington</td>\n",
              "      <td>Washington</td>\n",
              "      <td>Hyattsville</td>\n",
              "    </tr>\n",
              "    <tr>\n",
              "      <th>zipcode</th>\n",
              "      <td>20003</td>\n",
              "      <td>20003</td>\n",
              "      <td>20782</td>\n",
              "    </tr>\n",
              "    <tr>\n",
              "      <th>state</th>\n",
              "      <td>DC</td>\n",
              "      <td>DC</td>\n",
              "      <td>MD</td>\n",
              "    </tr>\n",
              "  </tbody>\n",
              "</table>\n",
              "</div>"
            ]
          },
          "metadata": {}
        }
      ],
      "execution_count": 25,
      "metadata": {
        "collapsed": false,
        "outputHidden": false,
        "inputHidden": false,
        "outputExpanded": false
      }
    },
    {
      "cell_type": "code",
      "source": [
        "# Calculate the distance between each value in the accommodates column from dc_listings and the value 3, which is the number of people our listing accommodates:\n",
        "# Use the apply method to calculate the absolute value between each value in accommodates and 3 and return a new Series containing the distance values.\n",
        "# Assign the distance values to the distance column.\n",
        "# Use the Series method value_counts and the print function to display the unique value counts for the distance column.\n",
        "dc_listings = dc_listings.assign(\n",
        "    distance=np.abs(3 - dc_listings['accommodates'])\n",
        ")\n",
        "dc_listings['distance'].value_counts()"
      ],
      "outputs": [
        {
          "output_type": "execute_result",
          "execution_count": 26,
          "data": {
            "text/plain": [
              "1     2294\n",
              "2      503\n",
              "0      461\n",
              "3      279\n",
              "5       73\n",
              "4       35\n",
              "7       22\n",
              "6       17\n",
              "9       12\n",
              "13       8\n",
              "8        7\n",
              "12       6\n",
              "11       4\n",
              "10       2\n",
              "Name: distance, dtype: int64"
            ]
          },
          "metadata": {}
        }
      ],
      "execution_count": 26,
      "metadata": {
        "collapsed": false,
        "outputHidden": false,
        "inputHidden": false,
        "outputExpanded": false
      }
    },
    {
      "cell_type": "code",
      "source": [
        "# Randomize the order of the rows in dc_listings:\n",
        "# Use the np.random.permutation() function to return a NumPy array of shuffled index values.\n",
        "# Use the Dataframe method loc[] to return a new Dataframe containing the shuffled order.\n",
        "# Assign the new Dataframe back to dc_listings.\n",
        "# After randomization, sort dc_listings by the distance column.\n",
        "# Display the first 10 values in the price column using the print function.\n",
        "np.random.seed(1)\n",
        "dc_listings = dc_listings.loc[np.random.permutation(dc_listings.index)].sort_values('distance')\n",
        "dc_listings['price'].head(10)"
      ],
      "outputs": [
        {
          "output_type": "execute_result",
          "execution_count": 27,
          "data": {
            "text/plain": [
              "577     $185.00\n",
              "2166    $180.00\n",
              "3631    $175.00\n",
              "71      $128.00\n",
              "1011    $115.00\n",
              "380     $219.00\n",
              "943     $125.00\n",
              "3107    $250.00\n",
              "1499     $94.00\n",
              "625     $150.00\n",
              "Name: price, dtype: object"
            ]
          },
          "metadata": {}
        }
      ],
      "execution_count": 27,
      "metadata": {
        "collapsed": false,
        "outputHidden": false,
        "inputHidden": false,
        "outputExpanded": false
      }
    },
    {
      "cell_type": "code",
      "source": [
        "# Remove the commas (,) and dollar sign characters ($) from the price column:\n",
        "# Use the str accessor so we can apply string methods to each value in the column followed by the string method replace to replace all comma characters with the empty character: stripped_commas = dc_listings['price'].str.replace(',', '')\n",
        "# Repeat to remove the dollar sign characters as well.\n",
        "# Convert the new Series object containing the cleaned values to the float datatype and assign back to the price column in dc_listings.\n",
        "dc_listings = dc_listings.assign(price=dc_listings.price.str.replace('[$|,]', '').astype('float'))"
      ],
      "outputs": [],
      "execution_count": 28,
      "metadata": {
        "collapsed": false,
        "outputHidden": false,
        "inputHidden": false,
        "outputExpanded": false
      }
    },
    {
      "cell_type": "code",
      "source": [
        "# Calculate the mean of the first 5 values in the price column and assign to mean_price.\n",
        "# Use the print function or the variable inspector below to display mean_price.\n",
        "mean_price = dc_listings.iloc[:5, dc_listings.columns.get_loc('price')].mean()"
      ],
      "outputs": [],
      "execution_count": 44,
      "metadata": {
        "collapsed": false,
        "outputHidden": false,
        "inputHidden": false,
        "outputExpanded": false
      }
    },
    {
      "cell_type": "code",
      "source": [
        "# play cell :)\n",
        "predict_price(4)"
      ],
      "outputs": [
        {
          "output_type": "execute_result",
          "execution_count": 49,
          "data": {
            "text/plain": [
              "197.6"
            ]
          },
          "metadata": {}
        }
      ],
      "execution_count": 49,
      "metadata": {
        "collapsed": false,
        "outputHidden": false,
        "inputHidden": false,
        "outputExpanded": false
      }
    },
    {
      "cell_type": "code",
      "source": [
        "# Write a function named predict_price that can use the k-nearest neighbors machine learning technique to calculate the suggested price for any value for accommodates. This function should:\n",
        "\n",
        "# Take in a single parameter, new_listing, that describes the number of bedrooms.\n",
        "# Calculate the distance between each value in the accommodates column and the new_listing value that was passed in. Assign the resulting Series object to the distance column in temp_df.\n",
        "# Sort temp_df by the distance column and select the first 5 values in the price column. Don't randomize the ordering of temp_df.\n",
        "# Calculate the mean of these 5 values and use that as the return value for the entire predict_price function.\n",
        "def predict_price(new_listing):\n",
        "#     params:\n",
        "#         new_listing: number of bedrooms\n",
        "    df = dc_listings.copy()\n",
        "    df = df.assign(\n",
        "        distance=np.abs(new_listing - df['accommodates'])\n",
        "    ).sort_values('distance')\n",
        "    \n",
        "    ## Complete the function.\n",
        "    return df.iloc[:5, df.columns.get_loc('price')].mean()\n",
        "\n",
        "# Use the predict_price function to suggest a price for a living space that:\n",
        "\n",
        "# accommodates 1 person, assign the suggested price to acc_one.\n",
        "acc_one = predict_price(1)\n",
        "# accommodates 2 people, assign the suggested price to acc_two.\n",
        "acc_two = predict_price(2)\n",
        "# accommodates 4 people, assign the suggested price to acc_four.\n",
        "acc_four = predict_price(4)"
      ],
      "outputs": [],
      "execution_count": 46,
      "metadata": {
        "collapsed": false,
        "outputHidden": false,
        "inputHidden": false,
        "outputExpanded": false
      }
    },
    {
      "cell_type": "code",
      "source": [],
      "outputs": [],
      "execution_count": null,
      "metadata": {
        "collapsed": false,
        "outputHidden": false,
        "inputHidden": false
      }
    }
  ],
  "metadata": {
    "kernelspec": {
      "name": "python3",
      "language": "python",
      "display_name": "Python 3"
    },
    "kernel_info": {
      "name": "python3"
    },
    "language_info": {
      "name": "python",
      "version": "3.6.3",
      "mimetype": "text/x-python",
      "codemirror_mode": {
        "name": "ipython",
        "version": 3
      },
      "pygments_lexer": "ipython3",
      "nbconvert_exporter": "python",
      "file_extension": ".py"
    },
    "nteract": {
      "version": "0.7.1"
    }
  },
  "nbformat": 4,
  "nbformat_minor": 4
}