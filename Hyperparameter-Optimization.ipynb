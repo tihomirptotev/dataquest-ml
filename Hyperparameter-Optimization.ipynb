{
 "cells": [
  {
   "cell_type": "markdown",
   "metadata": {},
   "source": [
    "### Hyperparameter Optimization"
   ]
  },
  {
   "cell_type": "markdown",
   "metadata": {},
   "source": [
    "In the last mission, we focused on increasing the number of attributes the model uses. We saw how, in general, adding more attributes generally lowered the error of the model. This is because the model is able to do a better job identifying the living spaces from the training set that are the most similar to the ones from the test set. However, we also observed how using all of the available features didn't actually improve the model's accuracy automatically and that some of the features were probably not relevant for similarity ranking. We learned that selecting relevant features was the right lever when improving a model's accuracy, not just increasing the features used in the absolute.\n",
    "\n",
    "In this mission, we'll focus on the impact of increasing k, the number of nearby neighbors the model uses to make predictions. We exported both the training (train_df) and test sets (test_df) from the last missions to CSV files, dc_airbnb_train.csv and dc_airbnb_test.csv respectively. Let's read both these CSV's into Dataframes."
   ]
  },
  {
   "cell_type": "code",
   "execution_count": 21,
   "metadata": {},
   "outputs": [],
   "source": [
    "%matplotlib inline\n",
    "import matplotlib.pyplot as plt\n",
    "import pandas as pd\n",
    "import seaborn as sns\n",
    "from sklearn.neighbors import KNeighborsRegressor\n",
    "from sklearn.metrics import mean_squared_error"
   ]
  },
  {
   "cell_type": "code",
   "execution_count": 3,
   "metadata": {},
   "outputs": [],
   "source": [
    "train_df = pd.read_csv('data/dc_airbnb_train.csv')\n",
    "test_df = pd.read_csv('data/dc_airbnb_test.csv')"
   ]
  },
  {
   "cell_type": "markdown",
   "metadata": {},
   "source": [
    "When we vary the features that are used in the model, we're affecting the data that the model uses. On the other hand, varying the k value affects the behavior of the model independently of the actual data that's used when making predictions. In other words, we're impacting how the model performs without trying to change the data that's used.\n",
    "\n",
    "Values that affect the behavior and performance of a model that are unrelated to the data that's used are referred to as hyperparameters. The process of finding the optimal hyperparameter value is known as hyperparameter optimization. A simple but common hyperparameter optimization technique is known as grid search, which involves:\n",
    "\n",
    "selecting a subset of the possible hyperparameter values,\n",
    "training a model using each of these hyperparameter values,\n",
    "evaluating each model's performance,\n",
    "selecting the hyperparameter value that resulted in the lowest error value.\n",
    "Grid search essentially boils down to evaluating the model performance at different k values and selecting the k value that resulted in the lowest error. While grid search can take a long time when working with large datasets, the data we're working with in this mission is small and this process is relatively quick.\n",
    "\n",
    "Let's confirm that grid search will work quickly for the dataset we're working with by first observing how the model performance changes as we increase the k value from 1 to 5. If you recall, we set 5 as the k value for the last 2 missions. Let's use the features from the last mission that resulted in the best model accuracy:\n",
    "\n",
    "accommodates\n",
    "bedrooms\n",
    "bathrooms\n",
    "number_of_reviews"
   ]
  },
  {
   "cell_type": "code",
   "execution_count": 17,
   "metadata": {},
   "outputs": [
    {
     "data": {
      "text/plain": [
       "[26364.92832764505,\n",
       " 15100.52246871445,\n",
       " 14579.597901655923,\n",
       " 16212.300767918088,\n",
       " 14090.011649601822,\n",
       " 13657.290671217292,\n",
       " 14288.273896589353,\n",
       " 14853.448183304892,\n",
       " 14670.831907751512,\n",
       " 14642.451478953355,\n",
       " 14734.071380889252,\n",
       " 14854.556669510808,\n",
       " 14733.16190399257,\n",
       " 14777.975894453346,\n",
       " 14771.124646694478,\n",
       " 14870.178509847838,\n",
       " 14832.598509630716,\n",
       " 14783.592968300116,\n",
       " 14775.594716988267,\n",
       " 14676.947986348125]"
      ]
     },
     "execution_count": 17,
     "metadata": {},
     "output_type": "execute_result"
    }
   ],
   "source": [
    "features = ['accommodates', 'bedrooms', 'bathrooms', 'number_of_reviews']\n",
    "# Create a list containing the integer values 1, 2, 3, 4, and 5, in that order, and assign to hyper_params.\n",
    "# Create an empty list and assign to mse_values.\n",
    "hyper_params = list(range(1, 21))\n",
    "mse_values = []\n",
    "# Use a for loop to iterate over hyper_params and in each iteration:\n",
    "for k in hyper_params:\n",
    "# Instantiate a KNeighborsRegressor object with the following parameters:\n",
    "# n_neighbors: the current value for the iterator variable,\n",
    "# algorithm: brute\n",
    "    knn = KNeighborsRegressor(n_neighbors=k, algorithm='brute')\n",
    "# Fit the instantiated k-nearest neighbors model to the following columns from train_df\n",
    "    knn.fit(train_df[features], train_df['price'])\n",
    "# Use the trained model to make predictions on the same columns from test_df and assign to predictions.\n",
    "    predictions = knn.predict(test_df[features])\n",
    "# Use the mean_squared_error function to calculate the MSE value between predictions and the price column from test_df.\n",
    "# Append the MSE value to mse_values.\n",
    "    mse_values.append(mean_squared_error(test_df['price'], predictions))\n",
    "# Display mse_values using the print() function.\n",
    "mse_values"
   ]
  },
  {
   "cell_type": "code",
   "execution_count": 22,
   "metadata": {},
   "outputs": [
    {
     "data": {
      "image/png": "[encoded data removed]",
      "text/plain": [
       "<matplotlib.figure.Figure at 0x7f122965c470>"
      ]
     },
     "metadata": {},
     "output_type": "display_data"
    }
   ],
   "source": [
    "plt.scatter(hyper_params, mse_values);"
   ]
  },
  {
   "cell_type": "code",
   "execution_count": 24,
   "metadata": {},
   "outputs": [
    {
     "data": {
      "image/png": "[encoded data removed]",
      "text/plain": [
       "<matplotlib.figure.Figure at 0x7f12287caac8>"
      ]
     },
     "metadata": {},
     "output_type": "display_data"
    }
   ],
   "source": [
    "plt.plot(hyper_params, mse_values);"
   ]
  },
  {
   "cell_type": "markdown",
   "metadata": {},
   "source": [
    "While using only the accommodates and bathrooms columns:\n",
    "\n",
    "Train a model for each k value between 1 and 20 using the training data.\n",
    "Use each model to make predictions on the test set (using just the accommodates and bathrooms columns).\n",
    "Calculate each model's MSE value by comparing each set of predictions to the true price values.\n",
    "Find the k value that obtained the lowest MSE value.\n",
    "Create a dictionary named two_hyp_mse that contains 1 key-value pair:\n",
    "key: k value that resulted in lowest MSE value.\n",
    "value: corresponding MSE value.\n",
    "Repeat this process while using only the accommodates, bathrooms, and bedrooms columns:\n",
    "\n",
    "Create a dictionary named three_hyp_mse that contains 1 key-value pair:\n",
    "key: k value that resulted in lowest MSE value.\n",
    "value: corresponding MSE value.\n",
    "Display both two_hyp_mse and three_hyp_mse using the print() function."
   ]
  },
  {
   "cell_type": "code",
   "execution_count": 39,
   "metadata": {},
   "outputs": [],
   "source": [
    "features = ['accommodates', 'bathrooms']\n",
    "results = {}\n",
    "for k in range(1, 21):\n",
    "    knn = KNeighborsRegressor(n_neighbors=k, algorithm='brute')\n",
    "    knn.fit(train_df[features], train_df['price'])\n",
    "    predictions = knn.predict(test_df[features])\n",
    "    results[k] = mean_squared_error(test_df['price'], predictions)\n",
    "\n",
    "min_mse_k = min(results, key=results.get)\n",
    "two_hyp_mse = {min_mse_k: results[min_mse_k]}"
   ]
  },
  {
   "cell_type": "code",
   "execution_count": 41,
   "metadata": {},
   "outputs": [],
   "source": [
    "features = ['accommodates', 'bathrooms', 'bedrooms']\n",
    "results = {}\n",
    "for k in range(1, 21):\n",
    "    knn = KNeighborsRegressor(n_neighbors=k, algorithm='brute')\n",
    "    knn.fit(train_df[features], train_df['price'])\n",
    "    predictions = knn.predict(test_df[features])\n",
    "    results[k] = mean_squared_error(test_df['price'], predictions)\n",
    "\n",
    "min_mse_k = min(results, key=results.get)\n",
    "three_hyp_mse = {min_mse_k, results[min_mse_k]}"
   ]
  },
  {
   "cell_type": "code",
   "execution_count": 42,
   "metadata": {},
   "outputs": [
    {
     "data": {
      "text/plain": [
       "({5: 14790.314266211606}, {7, 13518.769009310208})"
      ]
     },
     "execution_count": 42,
     "metadata": {},
     "output_type": "execute_result"
    }
   ],
   "source": [
    "two_hyp_mse, three_hyp_mse"
   ]
  },
  {
   "cell_type": "code",
   "execution_count": null,
   "metadata": {},
   "outputs": [],
   "source": []
  }
 ],
 "metadata": {
  "kernelspec": {
   "display_name": "Python 3",
   "language": "python",
   "name": "python3"
  },
  "language_info": {
   "codemirror_mode": {
    "name": "ipython",
    "version": 3
   },
   "file_extension": ".py",
   "mimetype": "text/x-python",
   "name": "python",
   "nbconvert_exporter": "python",
   "pygments_lexer": "ipython3",
   "version": "3.6.4"
  }
 },
 "nbformat": 4,
 "nbformat_minor": 2
}
