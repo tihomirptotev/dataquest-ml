{
 "cells": [
  {
   "cell_type": "code",
   "execution_count": 1,
   "metadata": {},
   "outputs": [],
   "source": [
    "import pandas as pd"
   ]
  },
  {
   "cell_type": "code",
   "execution_count": 48,
   "metadata": {},
   "outputs": [],
   "source": [
    "data = pd.read_csv('data/AmesHousing.txt', sep='\\t')"
   ]
  },
  {
   "cell_type": "code",
   "execution_count": 49,
   "metadata": {},
   "outputs": [],
   "source": [
    "train = data[0:1460].copy()\n",
    "test = data[1460:].copy()"
   ]
  },
  {
   "cell_type": "code",
   "execution_count": 50,
   "metadata": {},
   "outputs": [],
   "source": [
    "# Select columns with no missing values\n",
    "train_null_counts = train.isnull().sum()\n",
    "no_mv_cols = train_null_counts[train_null_counts == 0].index\n",
    "df_no_mv = train[no_mv_cols]"
   ]
  },
  {
   "cell_type": "code",
   "execution_count": 51,
   "metadata": {},
   "outputs": [],
   "source": [
    "# Select only text columns and convert them to category\n",
    "text_cols = df_no_mv.select_dtypes(include=['object']).columns\n",
    "for col in text_cols:\n",
    "    train[col] = train[col].astype('category')"
   ]
  },
  {
   "cell_type": "code",
   "execution_count": 52,
   "metadata": {},
   "outputs": [],
   "source": [
    "# Convert category columns to dummy columns\n",
    "train = pd.get_dummies(train, columns=text_cols, prefix='', prefix_sep='')"
   ]
  },
  {
   "cell_type": "code",
   "execution_count": 55,
   "metadata": {},
   "outputs": [],
   "source": [
    "# Convert numeric columns to meaningful data\n",
    "train['years_until_remod'] = train['Year Remod/Add'] - train['Year Built']"
   ]
  },
  {
   "cell_type": "code",
   "execution_count": 64,
   "metadata": {},
   "outputs": [
    {
     "data": {
      "text/plain": [
       "Lot Frontage      249\n",
       "Mas Vnr Type       11\n",
       "Mas Vnr Area       11\n",
       "Bsmt Qual          40\n",
       "Bsmt Cond          40\n",
       "Bsmt Exposure      41\n",
       "BsmtFin Type 1     40\n",
       "BsmtFin SF 1        1\n",
       "BsmtFin Type 2     41\n",
       "BsmtFin SF 2        1\n",
       "Bsmt Unf SF         1\n",
       "Total Bsmt SF       1\n",
       "Bsmt Full Bath      1\n",
       "Bsmt Half Bath      1\n",
       "Garage Type        74\n",
       "Garage Yr Blt      75\n",
       "Garage Finish      75\n",
       "Garage Qual        75\n",
       "Garage Cond        75\n",
       "dtype: int64"
      ]
     },
     "execution_count": 64,
     "metadata": {},
     "output_type": "execute_result"
    }
   ],
   "source": [
    "# Select columns with number of missing values from 1 to 584\n",
    "cols_mv_1_584 = train_null_counts[(train_null_counts < 584) & (train_null_counts > 0)].index\n",
    "df_missing_values = train[cols_mv_1_584]\n",
    "df_missing_values.isnull().sum()"
   ]
  },
  {
   "cell_type": "code",
   "execution_count": 75,
   "metadata": {},
   "outputs": [],
   "source": [
    "# Fill missing values in float columns with column's mean\n",
    "mv_float_cols = df_missing_values.select_dtypes(include=['float'])\n",
    "train.loc[:, mv_float_cols.columns] = mv_float_cols.fillna(value=mv_float_cols.mean())"
   ]
  },
  {
   "cell_type": "code",
   "execution_count": null,
   "metadata": {},
   "outputs": [],
   "source": []
  }
 ],
 "metadata": {
  "kernelspec": {
   "display_name": "Python 3",
   "language": "python",
   "name": "python3"
  },
  "language_info": {
   "codemirror_mode": {
    "name": "ipython",
    "version": 3
   },
   "file_extension": ".py",
   "mimetype": "text/x-python",
   "name": "python",
   "nbconvert_exporter": "python",
   "pygments_lexer": "ipython3",
   "version": "3.6.4"
  }
 },
 "nbformat": 4,
 "nbformat_minor": 2
}
